{
 "cells": [
  {
   "cell_type": "code",
   "execution_count": 2,
   "metadata": {},
   "outputs": [],
   "source": [
    "import random\n",
    "import networkx as nx"
   ]
  },
  {
   "cell_type": "code",
   "execution_count": 3,
   "metadata": {
    "collapsed": true
   },
   "outputs": [],
   "source": [
    "import dynamic\n",
    "import spread \n",
    "import static"
   ]
  },
  {
   "cell_type": "code",
   "execution_count": 4,
   "metadata": {
    "collapsed": true
   },
   "outputs": [],
   "source": [
    "# generate a graph from Barabasi-Albert algorithm\n",
    "n = 500 #number of nodes\n",
    "m = 3 #number of new edges per added node\n",
    "g = nx.barabasi_albert_graph(n, m)\n",
    "d = nx.shortest_path_length(g)\n",
    "paths = nx.all_pairs_dijkstra_path(g)"
   ]
  },
  {
   "cell_type": "code",
   "execution_count": 5,
   "metadata": {},
   "outputs": [],
   "source": [
    "# generate an epidemic starting from a random source\n",
    "noise = 0.3 # noise parameter for transmission delays\n",
    "infected, source = spread.spread(g, noise, delay_type='uniform')"
   ]
  },
  {
   "cell_type": "code",
   "execution_count": 7,
   "metadata": {},
   "outputs": [
    {
     "name": "stdout",
     "output_type": "stream",
     "text": [
      "Node 0 was infected at  3.82490601699\n",
      "The infection time of the source is 0\n",
      "The source was 427\n"
     ]
    }
   ],
   "source": [
    "# 'infected' is a dictionary of infection times, the source has infection time 0 by this is not used by the algo\n",
    "print 'Node 0 was infected at ', infected[0]\n",
    "print 'The infection time of the source is', infected[source]\n",
    "print 'The source was', source"
   ]
  },
  {
   "cell_type": "code",
   "execution_count": 8,
   "metadata": {},
   "outputs": [
    {
     "name": "stdout",
     "output_type": "stream",
     "text": [
      "Static sensors: [411, 67, 78, 483, 176, 110, 141, 395, 221, 37]\n"
     ]
    }
   ],
   "source": [
    "# generate static sensors randomly \n",
    "ks = 10 # number of static sensors\n",
    "static_sensors = random.sample(g.nodes(), ks)\n",
    "print 'Static sensors:', static_sensors"
   ]
  },
  {
   "cell_type": "code",
   "execution_count": 9,
   "metadata": {},
   "outputs": [],
   "source": [
    "# run source localization with STATIC algorithm\n",
    "cand_sources, seq_cand_sources, time, infected_nodes, success = static.static(g, d, static_sensors, infected, noise=noise)"
   ]
  },
  {
   "cell_type": "code",
   "execution_count": 10,
   "metadata": {},
   "outputs": [
    {
     "name": "stdout",
     "output_type": "stream",
     "text": [
      "[1, 2, 3, 4, 7, 8, 11, 12, 17, 23, 27, 28, 31, 34, 35, 36, 38, 43, 46, 49, 50, 52, 53, 54, 56, 59, 66, 68, 69, 70, 75, 79, 81, 83, 84, 85, 89, 93, 94, 97, 100, 105, 109, 110, 117, 118, 119, 121, 123, 124, 125, 127, 133, 135, 138, 139, 140, 145, 147, 149, 151, 152, 153, 154, 155, 157, 160, 161, 163, 165, 171, 174, 177, 178, 184, 187, 188, 190, 192, 193, 197, 201, 202, 205, 208, 214, 215, 216, 230, 236, 237, 238, 239, 241, 242, 244, 246, 253, 255, 256, 258, 262, 267, 268, 269, 270, 271, 274, 276, 278, 280, 282, 287, 289, 290, 292, 293, 295, 296, 298, 300, 304, 310, 312, 315, 316, 317, 319, 321, 325, 327, 328, 329, 331, 333, 334, 335, 336, 337, 341, 342, 343, 344, 345, 347, 349, 353, 356, 359, 360, 361, 362, 363, 366, 369, 370, 375, 376, 379, 380, 381, 382, 386, 390, 392, 396, 401, 405, 406, 408, 409, 412, 414, 415, 418, 419, 421, 423, 424, 426, 427, 431, 434, 438, 439, 441, 442, 443, 445, 450, 455, 457, 458, 461, 463, 466, 467, 475, 478, 479, 480, 482, 488, 493, 494, 496, 497, 498]\n",
      "True (If True the source is in the set)\n"
     ]
    }
   ],
   "source": [
    "# set of candidate sources\n",
    "print cand_sources\n",
    "print source in cand_sources, '(If True the source is in the set)'"
   ]
  },
  {
   "cell_type": "code",
   "execution_count": 11,
   "metadata": {},
   "outputs": [
    {
     "name": "stdout",
     "output_type": "stream",
     "text": [
      "[208, 208, 208, 208, 208, 208, 208, 208, 208, 208]\n"
     ]
    }
   ],
   "source": [
    "#'seq_cand_sources' is the list of the set of candidates at every algotithm step\n",
    "print seq_cand_sources"
   ]
  },
  {
   "cell_type": "code",
   "execution_count": 12,
   "metadata": {},
   "outputs": [
    {
     "name": "stdout",
     "output_type": "stream",
     "text": [
      "4.53676387418\n"
     ]
    }
   ],
   "source": [
    "#'time' is the time (after the epidemic started) at which the final set of candidates was produced\n",
    "print time"
   ]
  },
  {
   "cell_type": "code",
   "execution_count": 13,
   "metadata": {},
   "outputs": [
    {
     "name": "stdout",
     "output_type": "stream",
     "text": [
      "[118, 122, 134, 145, 245, 263, 290, 362, 376, 482]\n"
     ]
    }
   ],
   "source": [
    "# 'infected_nodes' is the list of the numbers of infected nodes at every algorithm step\n",
    "print infected_nodes"
   ]
  },
  {
   "cell_type": "code",
   "execution_count": 14,
   "metadata": {},
   "outputs": [],
   "source": [
    "# 'success' is a variable used for debugging: check if at every step the source is still among candidates \n",
    "# (to use it you need to pass the real source to the algo, otherwise 0 at each step by default)\n",
    "#print success"
   ]
  },
  {
   "cell_type": "code",
   "execution_count": 28,
   "metadata": {},
   "outputs": [],
   "source": [
    "# run source localization with DYNAMIC algorithm\n",
    "delay = 0.3 # delay between to dynamic sensor placements\n",
    "kd = 10 # budget for dynamic sensors\n",
    "d_1 = d # unweighted distance matrix (if the graph is unweighted it is equal to d)\n",
    "sensors, cand_sources, seq_cand_sources, time, infected_nodes, success = dynamic.dynamic(g, d, d_1, paths, static_sensors, infected, kd, delay, \n",
    "                                                                                         noise=noise, real_source=source)"
   ]
  },
  {
   "cell_type": "code",
   "execution_count": 29,
   "metadata": {},
   "outputs": [
    {
     "name": "stdout",
     "output_type": "stream",
     "text": [
      "[411, 67, 78, 483, 176, 110, 141, 395, 221, 37, 4, 11, 20, 70, 155, 427]\n"
     ]
    }
   ],
   "source": [
    "print sensors # set of static and dynamic sensors"
   ]
  },
  {
   "cell_type": "code",
   "execution_count": 30,
   "metadata": {},
   "outputs": [
    {
     "name": "stdout",
     "output_type": "stream",
     "text": [
      "[427]\n"
     ]
    }
   ],
   "source": [
    "print cand_sources"
   ]
  },
  {
   "cell_type": "code",
   "execution_count": 31,
   "metadata": {},
   "outputs": [
    {
     "name": "stdout",
     "output_type": "stream",
     "text": [
      "[411, 361, 248, 242, 224, 109, 94, 88, 76, 25, 25, 24, 16, 3, 2, 1]\n"
     ]
    }
   ],
   "source": [
    "print seq_cand_sources"
   ]
  },
  {
   "cell_type": "code",
   "execution_count": 24,
   "metadata": {},
   "outputs": [
    {
     "name": "stdout",
     "output_type": "stream",
     "text": [
      "[1, 1, 1, 1, 1, 1, 0, 0, 0, 0, 0, 0, 0, 0, 0, 0, 0, 0, 0, 0, 0, 0, 0, 0]\n"
     ]
    }
   ],
   "source": [
    "print success"
   ]
  },
  {
   "cell_type": "code",
   "execution_count": null,
   "metadata": {
    "collapsed": true
   },
   "outputs": [],
   "source": []
  }
 ],
 "metadata": {
  "kernelspec": {
   "display_name": "Python 2",
   "language": "python",
   "name": "python2"
  }
 },
 "nbformat": 4,
 "nbformat_minor": 2
}
