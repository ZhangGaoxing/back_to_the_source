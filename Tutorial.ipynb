{
 "cells": [
  {
   "cell_type": "code",
   "execution_count": 1,
   "metadata": {},
   "outputs": [],
   "source": [
    "import random\n",
    "import networkx as nx"
   ]
  },
  {
   "cell_type": "code",
   "execution_count": 2,
   "metadata": {
    "collapsed": true
   },
   "outputs": [],
   "source": [
    "import dynamic\n",
    "import spread \n",
    "import static"
   ]
  },
  {
   "cell_type": "code",
   "execution_count": 3,
   "metadata": {
    "collapsed": true
   },
   "outputs": [],
   "source": [
    "# generate a graph from Barabasi-Albert algorithm\n",
    "n = 500 #number of nodes\n",
    "m = 3 #number of new edges per added node\n",
    "g = nx.barabasi_albert_graph(n, m)\n",
    "d = nx.shortest_path_length(g)\n",
    "paths = nx.all_pairs_dijkstra_path(g)"
   ]
  },
  {
   "cell_type": "code",
   "execution_count": 19,
   "metadata": {},
   "outputs": [],
   "source": [
    "# generate an epidemic starting from a random source\n",
    "noise = 0.3 # noise parameter for transmission delays\n",
    "infected, source = spread.spread(g, noise, delay_type='uniform')"
   ]
  },
  {
   "cell_type": "code",
   "execution_count": 20,
   "metadata": {
    "tags": []
   },
   "outputs": [
    {
     "output_type": "stream",
     "name": "stdout",
     "text": "Node 0 was infected at  2.7590196504\nThe infection time of the source is 0\nThe source was 451\n"
    }
   ],
   "source": [
    "# 'infected' is a dictionary of infection times, the source has infection time 0 by this is not used by the algo\n",
    "print 'Node 0 was infected at ', infected[0]\n",
    "print 'The infection time of the source is', infected[source]\n",
    "print 'The source was', source"
   ]
  },
  {
   "cell_type": "code",
   "execution_count": 21,
   "metadata": {
    "tags": []
   },
   "outputs": [
    {
     "output_type": "stream",
     "name": "stdout",
     "text": "Static sensors: [360, 334, 266, 16, 114, 170, 41, 381, 322, 468]\n"
    }
   ],
   "source": [
    "# generate static sensors randomly \n",
    "ks = 10 # number of static sensors\n",
    "static_sensors = random.sample(g.nodes(), ks)\n",
    "print 'Static sensors:', static_sensors"
   ]
  },
  {
   "cell_type": "code",
   "execution_count": 22,
   "metadata": {},
   "outputs": [],
   "source": [
    "# run source localization with STATIC algorithm\n",
    "cand_sources, seq_cand_sources, time, infected_nodes, success = static.static(g, d, static_sensors, infected, noise=noise)"
   ]
  },
  {
   "cell_type": "code",
   "execution_count": 23,
   "metadata": {
    "tags": []
   },
   "outputs": [
    {
     "output_type": "stream",
     "name": "stdout",
     "text": "[1, 3, 13, 17, 40, 43, 46, 55, 58, 66, 82, 84, 86, 90, 91, 98, 107, 110, 111, 116, 126, 131, 136, 145, 150, 163, 178, 184, 198, 203, 204, 210, 250, 266, 274, 280, 285, 286, 295, 316, 361, 368, 389, 392, 393, 399, 401, 402, 407, 408, 411, 413, 415, 427, 438, 451, 456, 458, 477, 484, 489, 490, 498]\nTrue (If True the source is in the set)\n"
    }
   ],
   "source": [
    "# set of candidate sources\n",
    "print cand_sources\n",
    "print source in cand_sources, '(If True the source is in the set)'"
   ]
  },
  {
   "cell_type": "code",
   "execution_count": 24,
   "metadata": {
    "tags": []
   },
   "outputs": [
    {
     "output_type": "stream",
     "name": "stdout",
     "text": "[63, 63, 63, 63, 63, 63, 63, 63, 63, 63]\n"
    }
   ],
   "source": [
    "#'seq_cand_sources' is the list of the set of candidates at every algotithm step\n",
    "print seq_cand_sources"
   ]
  },
  {
   "cell_type": "code",
   "execution_count": 25,
   "metadata": {
    "tags": []
   },
   "outputs": [
    {
     "output_type": "stream",
     "name": "stdout",
     "text": "3.8632521478\n"
    }
   ],
   "source": [
    "#'time' is the time (after the epidemic started) at which the final set of candidates was produced\n",
    "print time"
   ]
  },
  {
   "cell_type": "code",
   "execution_count": 26,
   "metadata": {
    "tags": []
   },
   "outputs": [
    {
     "output_type": "stream",
     "name": "stdout",
     "text": "[16, 68, 72, 86, 124, 227, 264, 321, 416, 446]\n"
    }
   ],
   "source": [
    "# 'infected_nodes' is the list of the numbers of infected nodes at every algorithm step\n",
    "print infected_nodes"
   ]
  },
  {
   "cell_type": "code",
   "execution_count": 10,
   "metadata": {},
   "outputs": [],
   "source": [
    "# 'success' is a variable used for debugging: check if at every step the source is still among candidates \n",
    "# (to use it you need to pass the real source to the algo, otherwise 0 at each step by default)\n",
    "#print success"
   ]
  },
  {
   "cell_type": "code",
   "execution_count": 27,
   "metadata": {},
   "outputs": [],
   "source": [
    "# run source localization with DYNAMIC algorithm\n",
    "delay = 0.3 # delay between to dynamic sensor placements\n",
    "kd = 10 # budget for dynamic sensors\n",
    "d_1 = d # unweighted distance matrix (if the graph is unweighted it is equal to d)\n",
    "sensors, cand_sources, seq_cand_sources, time, infected_nodes, success = dynamic.dynamic(g, d, d_1, paths, static_sensors, infected, kd, delay, \n",
    "                                                                                         noise=noise, real_source=source)"
   ]
  },
  {
   "cell_type": "code",
   "execution_count": 28,
   "metadata": {
    "tags": []
   },
   "outputs": [
    {
     "output_type": "stream",
     "name": "stdout",
     "text": "[360, 334, 266, 16, 114, 170, 41, 381, 322, 468, 2, 5, 13, 7, 3, 456, 389]\n"
    }
   ],
   "source": [
    "print sensors # set of static and dynamic sensors"
   ]
  },
  {
   "cell_type": "code",
   "execution_count": 29,
   "metadata": {
    "tags": []
   },
   "outputs": [
    {
     "output_type": "stream",
     "name": "stdout",
     "text": "[451]\n"
    }
   ],
   "source": [
    "print cand_sources"
   ]
  },
  {
   "cell_type": "code",
   "execution_count": 30,
   "metadata": {
    "tags": []
   },
   "outputs": [
    {
     "output_type": "stream",
     "name": "stdout",
     "text": "[293, 215, 152, 56, 26, 21, 20, 19, 16, 11, 6, 6, 5, 2, 2, 2, 1]\n"
    }
   ],
   "source": [
    "print seq_cand_sources"
   ]
  },
  {
   "cell_type": "code",
   "execution_count": 15,
   "metadata": {
    "tags": []
   },
   "outputs": [
    {
     "output_type": "stream",
     "name": "stdout",
     "text": "[1, 1, 1, 1, 1, 1, 1, 1, 1, 1, 1, 1, 1, 1, 1, 1, 1]\n"
    }
   ],
   "source": [
    "print success"
   ]
  }
 ],
 "metadata": {
  "kernelspec": {
   "display_name": "Python 2.7.18 64-bit",
   "language": "python",
   "name": "python271864bit54e8fc1327de4703929cc12931e1645d"
  }
 },
 "nbformat": 4,
 "nbformat_minor": 2
}